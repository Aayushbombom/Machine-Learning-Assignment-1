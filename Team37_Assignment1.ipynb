{
 "cells": [
  {
   "cell_type": "markdown",
   "metadata": {
    "id": "Vj_r89FzT41w"
   },
   "source": [
    "##**BITS F464 - Semester 1 - MACHINE LEARNING**\n",
    "--------------------------------------------------------------------------------\n",
    "\n",
    "**ASSIGNMENT 1 - LINEAR MODELS FOR REGRESSION AND CLASSIFICATION**\n",
    "--------------------------------------------------------------------------------\n",
    "***Team number:*** 37\n",
    "\n",
    "---\n",
    "(*In Title case, separated with commas*)\n",
    "***Full names of all students in the team: Aayush Roy, Yash Kant, Vaibhav Mittal, Siddhi Binayak Muduli, Devansh Verma***\n",
    "\n",
    "---\n",
    "(*Separated by commas*)\n",
    "***Id number of all students in the team: 2021A3PS2801H, 2021A3PS2635H, 2021AAPS0737H, 2021A3PS2941H, 2021A8PS1687H***\n"
   ]
  },
  {
   "cell_type": "markdown",
   "metadata": {
    "id": "Z_duS0Zn17c3"
   },
   "source": [
    "This assignment aims to identify the differences between three sets of Machine Learning models."
   ]
  },
  {
   "cell_type": "markdown",
   "metadata": {
    "id": "yT-dTtra2h2n"
   },
   "source": [
    "# **_1. Dataset Generation_**"
   ]
  },
  {
   "cell_type": "markdown",
   "metadata": {
    "id": "2UsOVUj22wrz"
   },
   "source": [
    "You are given a sample Diabetes dataset. Using this, please develop your own dataset consisting of 500 records. You can use the given code to generate your own dataset. Submit the generated dataset as a .csv file along with your python notebook."
   ]
  },
  {
   "cell_type": "code",
   "execution_count": 8,
   "metadata": {
    "colab": {
     "base_uri": "https://localhost:8080/"
    },
    "id": "N8uONwSjNSc-",
    "outputId": "4476a180-83fb-4682-c414-2f27c187ae21"
   },
   "outputs": [],
   "source": [
    "##Installing required Libraries\n",
    "\n",
    "##%pip install sdv\n",
    "##%pip install urllib3==1.26"
   ]
  },
  {
   "cell_type": "code",
   "execution_count": 9,
   "metadata": {
    "id": "0huDfItkJLOr"
   },
   "outputs": [],
   "source": [
    "#importing necessary packages\n",
    "import pandas as pd\n",
    "import numpy as np\n",
    "import matplotlib.pyplot as plt\n",
    "import seaborn as sns\n",
    "import io"
   ]
  },
  {
   "cell_type": "code",
   "execution_count": 10,
   "metadata": {
    "id": "wZ7zr3wQ1aer"
   },
   "outputs": [],
   "source": [
    "import random"
   ]
  },
  {
   "cell_type": "code",
   "execution_count": 11,
   "metadata": {
    "colab": {
     "base_uri": "https://localhost:8080/",
     "height": 73
    },
    "id": "DdBsfNmXJnQ3",
    "outputId": "7ccd62c9-74ad-47b3-e92a-f38eab65f6ab",
    "scrolled": true
   },
   "outputs": [],
   "source": [
    "#Uploading CSV\n",
    "##from google.colab import files\n",
    "##uploaded = files.upload()"
   ]
  },
  {
   "cell_type": "code",
   "execution_count": 12,
   "metadata": {
    "colab": {
     "base_uri": "https://localhost:8080/",
     "height": 206
    },
    "id": "iSSSnqJZBxU6",
    "outputId": "dc184a9d-b36e-40e9-99e4-9bcc2334884c"
   },
   "outputs": [],
   "source": [
    "## Reading the DataSet\n",
    "\n",
    "# df = pd.read_csv(io.BytesIO(uploaded['diabetes2.csv']))\n",
    "# df.dropna()\n",
    "# df.head()"
   ]
  },
  {
   "cell_type": "code",
   "execution_count": 13,
   "metadata": {
    "colab": {
     "base_uri": "https://localhost:8080/",
     "height": 206
    },
    "id": "iv9I8ajqH5U4",
    "outputId": "c5592528-0db2-487f-9ce4-f0125efe6485"
   },
   "outputs": [],
   "source": [
    "## Generating Synthetic Data\n",
    "\n",
    "# from sdv.lite import SingleTablePreset\n",
    "# from sdv.metadata import SingleTableMetadata\n",
    "\n",
    "# metadata = SingleTableMetadata()\n",
    "# metadata.detect_from_dataframe(data = df)\n",
    "\n",
    "# synthesizer = SingleTablePreset(\n",
    "#     metadata,\n",
    "#     name='FAST_ML'\n",
    "# )\n",
    "\n",
    "# synthesizer.fit(df)\n",
    "# synthetic_data = synthesizer.sample(\n",
    "#     num_rows = 500\n",
    "# )\n",
    "\n",
    "# synthetic_data.head()\n",
    "\n",
    "\n",
    "\n"
   ]
  },
  {
   "cell_type": "code",
   "execution_count": 14,
   "metadata": {
    "id": "DtQprKoX3L9h"
   },
   "outputs": [],
   "source": [
    "## Saving generated dataset to csv\n",
    "# synthetic_data.to_csv('diabetes_synth.csv')"
   ]
  },
  {
   "cell_type": "markdown",
   "metadata": {},
   "source": [
    "# Code Above this is not neccessary to run since it is only for dataset generation"
   ]
  },
  {
   "cell_type": "markdown",
   "metadata": {
    "id": "rDu7bwbNRhaK"
   },
   "source": [
    "# ***2. Preprocess and perform exploratory data analysis of the dataset obtained***"
   ]
  },
  {
   "cell_type": "code",
   "execution_count": 15,
   "metadata": {
    "colab": {
     "base_uri": "https://localhost:8080/",
     "height": 206
    },
    "id": "oAd4cNwERr90",
    "outputId": "0672d2c6-3c14-43a1-e7ac-211de11d85b5"
   },
   "outputs": [
    {
     "data": {
      "text/html": [
       "<div>\n",
       "<style scoped>\n",
       "    .dataframe tbody tr th:only-of-type {\n",
       "        vertical-align: middle;\n",
       "    }\n",
       "\n",
       "    .dataframe tbody tr th {\n",
       "        vertical-align: top;\n",
       "    }\n",
       "\n",
       "    .dataframe thead th {\n",
       "        text-align: right;\n",
       "    }\n",
       "</style>\n",
       "<table border=\"1\" class=\"dataframe\">\n",
       "  <thead>\n",
       "    <tr style=\"text-align: right;\">\n",
       "      <th></th>\n",
       "      <th>Unnamed: 0</th>\n",
       "      <th>Pregnancies</th>\n",
       "      <th>Glucose</th>\n",
       "      <th>BloodPressure</th>\n",
       "      <th>SkinThickness</th>\n",
       "      <th>Insulin</th>\n",
       "      <th>BMI</th>\n",
       "      <th>DiabetesPedigreeFunction</th>\n",
       "      <th>Age</th>\n",
       "      <th>Outcome</th>\n",
       "    </tr>\n",
       "  </thead>\n",
       "  <tbody>\n",
       "    <tr>\n",
       "      <th>0</th>\n",
       "      <td>0</td>\n",
       "      <td>8.046627</td>\n",
       "      <td>137.341845</td>\n",
       "      <td>76.440333</td>\n",
       "      <td>32.825055</td>\n",
       "      <td>109.775892</td>\n",
       "      <td>33.403319</td>\n",
       "      <td>0.419852</td>\n",
       "      <td>46.426964</td>\n",
       "      <td>0.432231</td>\n",
       "    </tr>\n",
       "    <tr>\n",
       "      <th>1</th>\n",
       "      <td>1</td>\n",
       "      <td>2.827381</td>\n",
       "      <td>NaN</td>\n",
       "      <td>35.065757</td>\n",
       "      <td>9.030967</td>\n",
       "      <td>156.844543</td>\n",
       "      <td>NaN</td>\n",
       "      <td>NaN</td>\n",
       "      <td>24.396907</td>\n",
       "      <td>0.670039</td>\n",
       "    </tr>\n",
       "    <tr>\n",
       "      <th>2</th>\n",
       "      <td>2</td>\n",
       "      <td>2.956352</td>\n",
       "      <td>123.122827</td>\n",
       "      <td>NaN</td>\n",
       "      <td>34.146003</td>\n",
       "      <td>0.000000</td>\n",
       "      <td>33.502939</td>\n",
       "      <td>0.540255</td>\n",
       "      <td>21.000000</td>\n",
       "      <td>NaN</td>\n",
       "    </tr>\n",
       "    <tr>\n",
       "      <th>3</th>\n",
       "      <td>3</td>\n",
       "      <td>NaN</td>\n",
       "      <td>97.909669</td>\n",
       "      <td>90.531195</td>\n",
       "      <td>19.145994</td>\n",
       "      <td>11.053166</td>\n",
       "      <td>NaN</td>\n",
       "      <td>0.624517</td>\n",
       "      <td>23.294243</td>\n",
       "      <td>0.000000</td>\n",
       "    </tr>\n",
       "    <tr>\n",
       "      <th>4</th>\n",
       "      <td>4</td>\n",
       "      <td>0.000000</td>\n",
       "      <td>118.741228</td>\n",
       "      <td>86.693885</td>\n",
       "      <td>25.208403</td>\n",
       "      <td>52.438241</td>\n",
       "      <td>28.676574</td>\n",
       "      <td>0.293360</td>\n",
       "      <td>32.833095</td>\n",
       "      <td>0.000000</td>\n",
       "    </tr>\n",
       "  </tbody>\n",
       "</table>\n",
       "</div>"
      ],
      "text/plain": [
       "   Unnamed: 0  Pregnancies     Glucose  BloodPressure  SkinThickness  \\\n",
       "0           0     8.046627  137.341845      76.440333      32.825055   \n",
       "1           1     2.827381         NaN      35.065757       9.030967   \n",
       "2           2     2.956352  123.122827            NaN      34.146003   \n",
       "3           3          NaN   97.909669      90.531195      19.145994   \n",
       "4           4     0.000000  118.741228      86.693885      25.208403   \n",
       "\n",
       "      Insulin        BMI  DiabetesPedigreeFunction        Age   Outcome  \n",
       "0  109.775892  33.403319                  0.419852  46.426964  0.432231  \n",
       "1  156.844543        NaN                       NaN  24.396907  0.670039  \n",
       "2    0.000000  33.502939                  0.540255  21.000000       NaN  \n",
       "3   11.053166        NaN                  0.624517  23.294243  0.000000  \n",
       "4   52.438241  28.676574                  0.293360  32.833095  0.000000  "
      ]
     },
     "execution_count": 15,
     "metadata": {},
     "output_type": "execute_result"
    }
   ],
   "source": [
    "sd = pd.read_csv('diabetes_synth.csv')\n",
    "sd.head()\n",
    "\n",
    "## By taking a quick look at the data we see that there are a lot of NaN values.\n"
   ]
  },
  {
   "cell_type": "code",
   "execution_count": 16,
   "metadata": {
    "colab": {
     "base_uri": "https://localhost:8080/"
    },
    "id": "Vu0XLI8TFpLk",
    "outputId": "f302881b-a7af-4a3c-f04d-15e7bc78e46d"
   },
   "outputs": [
    {
     "data": {
      "text/plain": [
       "1105"
      ]
     },
     "execution_count": 16,
     "metadata": {},
     "output_type": "execute_result"
    }
   ],
   "source": [
    "sd.isnull().sum().sum() ## This shows that we have 1105 null values\n"
   ]
  },
  {
   "cell_type": "code",
   "execution_count": 17,
   "metadata": {
    "colab": {
     "base_uri": "https://localhost:8080/",
     "height": 206
    },
    "id": "d2vm-WZ7F8Fg",
    "outputId": "0cc4d380-26a8-438d-8187-346ffa495035"
   },
   "outputs": [
    {
     "data": {
      "text/html": [
       "<div>\n",
       "<style scoped>\n",
       "    .dataframe tbody tr th:only-of-type {\n",
       "        vertical-align: middle;\n",
       "    }\n",
       "\n",
       "    .dataframe tbody tr th {\n",
       "        vertical-align: top;\n",
       "    }\n",
       "\n",
       "    .dataframe thead th {\n",
       "        text-align: right;\n",
       "    }\n",
       "</style>\n",
       "<table border=\"1\" class=\"dataframe\">\n",
       "  <thead>\n",
       "    <tr style=\"text-align: right;\">\n",
       "      <th></th>\n",
       "      <th>Unnamed: 0</th>\n",
       "      <th>Pregnancies</th>\n",
       "      <th>Glucose</th>\n",
       "      <th>BloodPressure</th>\n",
       "      <th>SkinThickness</th>\n",
       "      <th>Insulin</th>\n",
       "      <th>BMI</th>\n",
       "      <th>DiabetesPedigreeFunction</th>\n",
       "      <th>Age</th>\n",
       "      <th>Outcome</th>\n",
       "    </tr>\n",
       "  </thead>\n",
       "  <tbody>\n",
       "    <tr>\n",
       "      <th>0</th>\n",
       "      <td>0</td>\n",
       "      <td>8.0</td>\n",
       "      <td>137.0</td>\n",
       "      <td>76.0</td>\n",
       "      <td>32.83</td>\n",
       "      <td>110.0</td>\n",
       "      <td>33.4</td>\n",
       "      <td>0.420</td>\n",
       "      <td>46.0</td>\n",
       "      <td>0.0</td>\n",
       "    </tr>\n",
       "    <tr>\n",
       "      <th>1</th>\n",
       "      <td>1</td>\n",
       "      <td>3.0</td>\n",
       "      <td>130.0</td>\n",
       "      <td>35.0</td>\n",
       "      <td>9.03</td>\n",
       "      <td>157.0</td>\n",
       "      <td>33.5</td>\n",
       "      <td>0.480</td>\n",
       "      <td>24.0</td>\n",
       "      <td>1.0</td>\n",
       "    </tr>\n",
       "    <tr>\n",
       "      <th>2</th>\n",
       "      <td>2</td>\n",
       "      <td>3.0</td>\n",
       "      <td>123.0</td>\n",
       "      <td>63.0</td>\n",
       "      <td>34.15</td>\n",
       "      <td>0.0</td>\n",
       "      <td>33.5</td>\n",
       "      <td>0.540</td>\n",
       "      <td>21.0</td>\n",
       "      <td>0.0</td>\n",
       "    </tr>\n",
       "    <tr>\n",
       "      <th>3</th>\n",
       "      <td>3</td>\n",
       "      <td>1.0</td>\n",
       "      <td>98.0</td>\n",
       "      <td>91.0</td>\n",
       "      <td>19.15</td>\n",
       "      <td>11.0</td>\n",
       "      <td>31.1</td>\n",
       "      <td>0.625</td>\n",
       "      <td>23.0</td>\n",
       "      <td>0.0</td>\n",
       "    </tr>\n",
       "    <tr>\n",
       "      <th>4</th>\n",
       "      <td>4</td>\n",
       "      <td>0.0</td>\n",
       "      <td>119.0</td>\n",
       "      <td>87.0</td>\n",
       "      <td>25.21</td>\n",
       "      <td>52.0</td>\n",
       "      <td>28.7</td>\n",
       "      <td>0.293</td>\n",
       "      <td>33.0</td>\n",
       "      <td>0.0</td>\n",
       "    </tr>\n",
       "  </tbody>\n",
       "</table>\n",
       "</div>"
      ],
      "text/plain": [
       "   Unnamed: 0  Pregnancies  Glucose  BloodPressure  SkinThickness  Insulin  \\\n",
       "0           0          8.0    137.0           76.0          32.83    110.0   \n",
       "1           1          3.0    130.0           35.0           9.03    157.0   \n",
       "2           2          3.0    123.0           63.0          34.15      0.0   \n",
       "3           3          1.0     98.0           91.0          19.15     11.0   \n",
       "4           4          0.0    119.0           87.0          25.21     52.0   \n",
       "\n",
       "    BMI  DiabetesPedigreeFunction   Age  Outcome  \n",
       "0  33.4                     0.420  46.0      0.0  \n",
       "1  33.5                     0.480  24.0      1.0  \n",
       "2  33.5                     0.540  21.0      0.0  \n",
       "3  31.1                     0.625  23.0      0.0  \n",
       "4  28.7                     0.293  33.0      0.0  "
      ]
     },
     "execution_count": 17,
     "metadata": {},
     "output_type": "execute_result"
    }
   ],
   "source": [
    "##Data Preprocessing\n",
    "\n",
    "sd_clear = sd.interpolate(method='linear')\n",
    "\n",
    "sd_clear_rounded = sd_clear.round({\n",
    "    \"Pregnancies\": 0,\n",
    "    \"Glucose\":0,\n",
    "    \"BloodPressure\":0,\n",
    "    \"SkinThickness\":2,\n",
    "    \"Insulin\":0,\n",
    "    \"BMI\":1,\n",
    "    \"DiabetesPedigreeFunction\":3,\n",
    "    \"Age\": 0,\n",
    "    \"Outcome\":0\n",
    "    })\n",
    "\n",
    "sd_clear_rounded.head()\n",
    "##sd_clear_rounded['Outcome'].sum()\n",
    "\n"
   ]
  },
  {
   "cell_type": "code",
   "execution_count": 18,
   "metadata": {
    "colab": {
     "base_uri": "https://localhost:8080/",
     "height": 603
    },
    "id": "xI9f9KeEQf8x",
    "outputId": "3e18b2ac-5e3a-4651-828c-d0395a0fe387"
   },
   "outputs": [
    {
     "data": {
      "image/png": "[encoded data removed]",
      "text/plain": [
       "<Figure size 640x480 with 2 Axes>"
      ]
     },
     "metadata": {},
     "output_type": "display_data"
    }
   ],
   "source": [
    "# Exploratory Analysis\n",
    "\n",
    "# 1. Correleation Matrix\n",
    "scr = sd_clear_rounded.drop('Unnamed: 0', axis = 1)\n",
    "sns.heatmap(scr.corr(), cmap=\"YlGnBu\", annot = True)\n",
    "plt.show()"
   ]
  },
  {
   "cell_type": "markdown",
   "metadata": {
    "id": "BQpy3m9GiZkq"
   },
   "source": [
    "## **TARGET VARIABLE AND FEATURE SELECTION**\n",
    "\n",
    "\n",
    "*   For linear and polynomial regression we will choose DiabetesPedigreeFunction as target variable since it is a continuous variable\n",
    "\n",
    "*   For logisitc regression and LSC we will choose Outcome as target variable\n",
    "\n",
    "*   For Regression we will consider all other features as input except the outcome and DPF since DPF is compareably correlated to all the features.\n",
    "\n"
   ]
  },
  {
   "cell_type": "code",
   "execution_count": 19,
   "metadata": {
    "id": "X5I7XgRElto8"
   },
   "outputs": [],
   "source": [
    "## Splitting Data for Training and Testing\n",
    "scr_train = scr.sample(frac = 0.5)\n",
    "scr_test = scr.drop(scr_train.index)"
   ]
  },
  {
   "cell_type": "markdown",
   "metadata": {
    "id": "y81SQxOrRso5"
   },
   "source": [
    "# ***3. Comparison of Stochastic Gradient Descent and Batch Gradient Descent using Linear Regression***\n",
    "\n",
    "## **_Stochastic Gradient Descent_**"
   ]
  },
  {
   "cell_type": "code",
   "execution_count": null,
   "metadata": {
    "id": "0t-VewqfrrRF"
   },
   "outputs": [],
   "source": [
    "## Scaling Features\n",
    "from sklearn import preprocessing\n",
    "\n",
    "sx = preprocessing.MinMaxScaler()\n",
    "sy = preprocessing.MinMaxScaler()\n",
    "scaled_x = sx.fit_transform(scr_train.drop(columns = ['Outcome','DiabetesPedigreeFunction'], axis=1))\n",
    "##scaled_x\n",
    "\n",
    "scaled_y = sy.fit_transform(scr_train['DiabetesPedigreeFunction'].values.reshape(scr_train.shape[0],1))\n",
    "##scaled_y"
   ]
  },
  {
   "cell_type": "code",
   "execution_count": null,
   "metadata": {
    "colab": {
     "base_uri": "https://localhost:8080/"
    },
    "id": "OQ8CVHsER-Mh",
    "outputId": "bb50d7c6-f3cf-43c5-c780-8af4ca06a1e9"
   },
   "outputs": [],
   "source": [
    "\n",
    "\n",
    "def stochastic_gradient_descent(X, Y_true, epochs, learning_rate = 0.01):\n",
    "  number_of_features = X.shape[1]\n",
    "\n",
    "  w = np.zeros(number_of_features)   ##returns a matrix containing zeros\n",
    "  b = 0                              ## taking bias equal to zero\n",
    "  total_samples = X.shape[0]\n",
    "\n",
    "  costs = []          ## Maintaing these lists would help us to draw graphs later on\n",
    "  epoch_list = []\n",
    "\n",
    "  for i in range(epochs):\n",
    "    random_index = random.randint(0,total_samples-1)\n",
    "    sample_x = X[random_index]\n",
    "    sample_y = Y_true[random_index]\n",
    "\n",
    "    y_pred = np.dot(w,sample_x.T) + b\n",
    "    w_grad = -(2/total_samples)*(sample_x.T.dot(sample_y - y_pred))\n",
    "    b_grad = -(2/total_samples)*(sample_y - y_pred)\n",
    "\n",
    "    w = w - learning_rate * w_grad\n",
    "    b = b - learning_rate * b_grad\n",
    "\n",
    "    cost = np.mean(np.square(Y_true - y_pred))\n",
    "    if i%200 == 0:\n",
    "      costs.append(cost)\n",
    "      epoch_list.append(i)\n",
    "  return w, b, cost, costs, epoch_list\n",
    "w_sgd, b_sgd, cost_sgd, cost_list_sgd, epoch_list_sgd =  stochastic_gradient_descent(scaled_x,scaled_y.reshape(scaled_y.shape[0]),30000)\n",
    "w_sgd, b_sgd, cost_sgd"
   ]
  },
  {
   "cell_type": "markdown",
   "metadata": {
    "id": "HqIC34nWR-n7"
   },
   "source": [
    "## **_Batch Gradient Descent_**"
   ]
  },
  {
   "cell_type": "code",
   "execution_count": null,
   "metadata": {
    "colab": {
     "base_uri": "https://localhost:8080/"
    },
    "id": "-hA5FysjSBzj",
    "outputId": "e6b25293-e36c-4d11-ac70-cd7f82415726"
   },
   "outputs": [],
   "source": [
    "def batch_gradient_descent(X, Y_true, epochs, learning_rate = 0.01):\n",
    "  number_of_features = X.shape[1]\n",
    "\n",
    "  w = np.zeros(number_of_features)   ##returns a matrix containing zeros\n",
    "  b = 0                              ## taking bias equal to zero\n",
    "  total_samples = X.shape[0]\n",
    "\n",
    "  costs = []          ## Maintaing these lists would help us to draw graphs later on\n",
    "  epoch_list = []\n",
    "\n",
    "  for i in range(epochs):\n",
    "    Y_pred = np.dot(w, X.T) + b\n",
    "\n",
    "    w_grad = -(2/total_samples)*(X.T.dot(Y_true - Y_pred))\n",
    "    b_grad = -(2/total_samples)*np.sum(Y_true - Y_pred)\n",
    "\n",
    "    w = w - learning_rate * w_grad\n",
    "    b = b - learning_rate * b_grad\n",
    "\n",
    "    cost = np.mean(np.square(Y_true - Y_pred))\n",
    "    if i%20 == 0:\n",
    "      costs.append(cost)\n",
    "      epoch_list.append(i)\n",
    "  return w, b, cost, costs, epoch_list\n",
    "\n",
    "w, b, cost, cost_list, epoch_list = batch_gradient_descent(scaled_x,scaled_y.reshape(scaled_y.shape[0]),2000)\n",
    "w, b, cost\n"
   ]
  },
  {
   "cell_type": "code",
   "execution_count": null,
   "metadata": {
    "colab": {
     "base_uri": "https://localhost:8080/"
    },
    "id": "zd8H9_yyyUPc",
    "outputId": "19990254-562b-4137-fe07-94e6eddcb14f"
   },
   "outputs": [],
   "source": [
    "##Prediction Function\n",
    "from sklearn.metrics import accuracy_score\n",
    "from sklearn.metrics import mean_squared_error\n",
    "\n",
    "x_test_input = scr_test.drop(columns = ['Outcome', 'DiabetesPedigreeFunction'], axis = 1)\n",
    "y_true = scr_test['DiabetesPedigreeFunction']\n",
    "i = 0\n",
    "def predict(X,w,b):\n",
    "  scaled_x_test = sx.transform(X)\n",
    "  y_pred = []\n",
    "  for x_test in scaled_x_test:\n",
    "    scaled_dpf = np.dot(w, x_test.T) + b\n",
    "    y_pred.append((sy.inverse_transform([[scaled_dpf]]))[0][0])\n",
    "  return y_pred\n",
    "\n",
    "y_pred = predict(x_test_input,w,b)\n",
    "\n",
    "print(\"The Mean Squared Error between Train and Test data is: (Batch Gradient Descent) \", mean_squared_error(y_true, y_pred))\n",
    "\n",
    "y_pred = predict(x_test_input,w_sgd,b_sgd)\n",
    "\n",
    "print(\"The Mean Squared Error between Train and Test data is: (Stochastic Gradient Descent) \", mean_squared_error(y_true, y_pred))\n",
    "\n",
    "\n"
   ]
  },
  {
   "cell_type": "markdown",
   "metadata": {
    "id": "8g7NxS5sSCRv"
   },
   "source": [
    "## **_Insights drawn (plots, markdown explanations)_**"
   ]
  },
  {
   "cell_type": "code",
   "execution_count": null,
   "metadata": {
    "colab": {
     "base_uri": "https://localhost:8080/",
     "height": 472
    },
    "id": "reyePdV7wfo8",
    "outputId": "ce01fdca-e46f-4868-eed1-07e9c6df2bb6"
   },
   "outputs": [],
   "source": [
    "plt.xlabel('epoch')\n",
    "plt.ylabel('cost')\n",
    "plt.title('Batch Gradient Descent')\n",
    "plt.plot(epoch_list,cost_list)\n",
    "plt.show()"
   ]
  },
  {
   "cell_type": "code",
   "execution_count": null,
   "metadata": {
    "colab": {
     "base_uri": "https://localhost:8080/",
     "height": 489
    },
    "id": "hd1xMvgLim5g",
    "outputId": "a60b8872-fb4c-4f68-cc6c-29cfcf0169c1"
   },
   "outputs": [],
   "source": [
    "plt.xlabel('epoch')\n",
    "plt.ylabel('cost')\n",
    "plt.title('Stochastic Gradient Descent')\n",
    "plt.plot(epoch_list_sgd,cost_list_sgd)"
   ]
  },
  {
   "cell_type": "markdown",
   "metadata": {
    "id": "p-L0i1O-kB5z"
   },
   "source": [
    "# **Insights and Analysis**\n",
    "### The following inferences can be taken from the above implementation of both the algorithms\n",
    "\n",
    "*   From the Graphs we can clearly see that Batch Gradient Descent(BGD) is more smooth as compared to Stochastic Gradient Descent(SGD).\n",
    "*   The BGD requires less no. of iterations or epochs as comapred to SGD.\n",
    "*   Also the BGD Flattens faster than SGD.\n",
    "*   The minimum error that we get for BGD is 0.0328 (approx) and for SGD we get a min error of 0.03417 (approx).\n",
    "\n",
    "\n",
    "\n",
    "\n"
   ]
  },
  {
   "cell_type": "markdown",
   "metadata": {
    "id": "2p-mPVFCSe9V"
   },
   "source": [
    "# **_4. Comparison of Lasso and Ridge Regression using Polynomial Regression_**\n",
    "\n",
    "## **_Lasso Regression_**"
   ]
  },
  {
   "cell_type": "code",
   "execution_count": null,
   "metadata": {
    "id": "LTjoKWdNSpcE"
   },
   "outputs": [],
   "source": [
    "def lasso(X,Y,learning_rate,lambda_parameter,epochs):\n",
    "  m,n = X.shape\n",
    "  w = np.zeros(n)   ##weights\n",
    "  b = 0             ##bias\n",
    "\n",
    "  for i in range(epochs):\n",
    "    dw = np.zeros(n)\n",
    "    b = 0\n",
    "    y_pred = X.dot(w.T) + b\n",
    "\n",
    "    for i in range(n):\n",
    "\n",
    "      dw[i] = (-(2*(X[:,i]).dot(Y-y_pred))+ (2*lambda_parameter*np.sum(np.abs(w))))/m\n",
    "\n",
    "      db = -2 * np.sum(Y - y_pred) / m\n",
    "\n",
    "    w = w - learning_rate*dw\n",
    "    b = b - learning_rate*db\n",
    "\n",
    "  return w,b\n",
    "\n",
    "w_lasso, b_lasso = lasso(scaled_x, scaled_y[:,0],0.01,3,10000)"
   ]
  },
  {
   "cell_type": "markdown",
   "metadata": {
    "id": "Dr-p_RtzSqUF"
   },
   "source": [
    "## **_Ridge Regression_**"
   ]
  },
  {
   "cell_type": "code",
   "execution_count": null,
   "metadata": {
    "id": "aWqMiCzVSuAD"
   },
   "outputs": [],
   "source": [
    "def ridge(X,Y,learning_rate,lambda_parameter,epochs):\n",
    "  m,n = X.shape\n",
    "  w = np.zeros(n)   ##weights\n",
    "  b = 0             ##bias\n",
    "\n",
    "  for i in range(epochs):\n",
    "    dw = np.zeros(n)\n",
    "    b = 0\n",
    "    y_pred = X.dot(w.T) + b\n",
    "\n",
    "    for i in range(n):\n",
    "\n",
    "      dw[i] = (-(2*(X[:,i]).dot(Y-y_pred))+ (2*lambda_parameter*np.sum(np.square(w))))/m\n",
    "\n",
    "      db = -2 * np.sum(Y - y_pred) / m\n",
    "\n",
    "    w = w - learning_rate*dw\n",
    "    b = b - learning_rate*db\n",
    "\n",
    "  return w,b\n",
    "\n",
    "w_ridge, b_ridge = ridge(scaled_x,scaled_y[:,0],0.01,3,5000)"
   ]
  },
  {
   "cell_type": "code",
   "execution_count": null,
   "metadata": {
    "colab": {
     "base_uri": "https://localhost:8080/"
    },
    "id": "HMRfspyoEfWn",
    "outputId": "0d9ef7aa-a4b8-4a55-d606-7b14ee3646aa"
   },
   "outputs": [],
   "source": [
    "##Testing Our Models\n",
    "y_pred = predict(x_test_input,w_lasso,b_lasso)\n",
    "print(\"The MSE for Lasso is: \" , mean_squared_error(y_pred,y_true))\n",
    "\n",
    "y_pred = predict(x_test_input,w_ridge,b_ridge)\n",
    "print(\"The MSE for Ridge is: \" , mean_squared_error(y_pred,y_true))"
   ]
  },
  {
   "cell_type": "markdown",
   "metadata": {
    "id": "FlUMAWsiSug9"
   },
   "source": [
    "## **_Insights drawn (plots, markdown explanations)_**"
   ]
  },
  {
   "cell_type": "code",
   "execution_count": null,
   "metadata": {
    "id": "ZRRNyaimS0iR"
   },
   "outputs": [],
   "source": []
  },
  {
   "cell_type": "markdown",
   "metadata": {
    "id": "jzSfpXtdS_q0"
   },
   "source": [
    "# **_5. Comparison of Logistic Regression and Least Squares Classification_**\n",
    "\n",
    "## **_Logistic Regression_**"
   ]
  },
  {
   "cell_type": "code",
   "execution_count": null,
   "metadata": {
    "id": "pkK9XSlvtSCN"
   },
   "outputs": [],
   "source": [
    "## Scaling Features\n",
    "lg_sx = preprocessing.MinMaxScaler()\n",
    "lg_sy = preprocessing.MinMaxScaler()\n",
    "scaled_x_lg = lg_sx.fit_transform(scr_train.drop(columns = ['Outcome'], axis=1))\n",
    "##scaled_x\n",
    "\n",
    "scaled_y_lg = lg_sy.fit_transform(scr_train['Outcome'].values.reshape(scr_train.shape[0],1))\n",
    "##scaled_y\n",
    "\n",
    "def sigmoid(z):\n",
    "  return 1 / (1 + np.exp(-z))"
   ]
  },
  {
   "cell_type": "code",
   "execution_count": null,
   "metadata": {
    "colab": {
     "base_uri": "https://localhost:8080/"
    },
    "id": "JLCup6QlTG0G",
    "outputId": "13a87817-8ee3-48b9-860b-151c477451b3"
   },
   "outputs": [],
   "source": [
    "def logistic_regression(X, Y_true, epochs, learning_rate = 0.03):\n",
    "  number_of_features = X.shape[1]\n",
    "\n",
    "  w = np.zeros(number_of_features)   ##returns a matrix containing zeros\n",
    "  b = 0                              ## taking bias equal to zero\n",
    "  total_samples = X.shape[0]\n",
    "\n",
    "  costs = []          ## Maintaing these lists would help us to draw graphs later on\n",
    "  epoch_list = []\n",
    "\n",
    "  for i in range(epochs):\n",
    "    linear_model = np.dot(w, X.T) + b\n",
    "    Y_pred = sigmoid(linear_model)\n",
    "\n",
    "    w_grad = -(2/total_samples)*(X.T.dot(Y_true - Y_pred))\n",
    "    b_grad = -(2/total_samples)*np.sum(Y_true - Y_pred)\n",
    "\n",
    "    w = w - learning_rate * w_grad\n",
    "    b = b - learning_rate * b_grad\n",
    "\n",
    "    cost = np.mean(np.square(Y_true - Y_pred))\n",
    "    if i%20 == 0:\n",
    "      costs.append(cost)\n",
    "      epoch_list.append(i)\n",
    "  return w, b, cost, costs, epoch_list\n",
    "\n",
    "w_lg, b_lg, cost_lg, cost_list_lg, epoch_list_lg = logistic_regression(scaled_x_lg,scaled_y_lg.reshape(scaled_y.shape[0]),30000)\n",
    "\n",
    "w_lg, b_lg, cost_lg"
   ]
  },
  {
   "cell_type": "code",
   "execution_count": null,
   "metadata": {
    "colab": {
     "base_uri": "https://localhost:8080/"
    },
    "id": "kXJ4SClM2c2C",
    "outputId": "78fba451-0de2-4e8d-ed4c-95f9ed1e2673"
   },
   "outputs": [],
   "source": [
    "## Testing Our Model\n",
    "\n",
    "x_test_input_lg = scr_test.drop(columns = ['Outcome'], axis = 1)\n",
    "y_true = scr_test['Outcome']\n",
    "\n",
    "def predict_classification(X,w,b):     ## Function that finds values for test sample\n",
    "  scaled_x_test = lg_sx.transform(X)\n",
    "\n",
    "  y_pred = []\n",
    "  for x_test in scaled_x_test:\n",
    "    scaled_dpf_lg = sigmoid(np.dot(w, x_test) + b)\n",
    "    if lg_sy.inverse_transform([[scaled_dpf_lg]])[0][0] > 0.5 :\n",
    "      y_pred.append(1.0)\n",
    "    else:\n",
    "      y_pred.append(0.0)\n",
    "\n",
    "\n",
    "  return y_pred\n",
    "y_true = y_true.values.tolist()\n",
    "y_true\n",
    "y_pred_lg = predict_classification(x_test_input_lg, w_lg, b_lg)\n",
    "\n",
    "print(\"The Accuracy for Logistic Regression is: \", accuracy_score(y_pred_lg,y_true)*100)"
   ]
  },
  {
   "cell_type": "markdown",
   "metadata": {
    "id": "kdX2kQ-nTHXc"
   },
   "source": [
    "## **_Least Squares Classification_**"
   ]
  },
  {
   "cell_type": "code",
   "execution_count": null,
   "metadata": {
    "id": "_7qJtwGnTMdb"
   },
   "outputs": [],
   "source": [
    "def lsc(X,y):\n",
    "    X_with_bias = np.column_stack((np.ones(X.shape[0]), X))\n",
    "    lhs = np.dot(X_with_bias.T, X_with_bias)\n",
    "    rhs = np.dot(X_with_bias.T, y)\n",
    "\n",
    "    w = np.linalg.solve(lhs, rhs)\n",
    "    return w\n",
    "\n",
    "w_lsc = lsc(scaled_x_lg,scaled_y_lg)\n",
    "\n",
    "w_lsc_flat = []\n",
    "for w in w_lsc:\n",
    "  w_lsc_flat.append(w[0])\n",
    "\n",
    "w_lsc_flat"
   ]
  },
  {
   "cell_type": "code",
   "execution_count": null,
   "metadata": {
    "colab": {
     "base_uri": "https://localhost:8080/"
    },
    "id": "dyWLEJqVUNjU",
    "outputId": "2b8ebd6b-93c0-4dc3-fec4-5b3b042d68da"
   },
   "outputs": [],
   "source": [
    "x_test_input_lg = scr_test.drop(columns = ['Outcome'], axis = 1)\n",
    "y_true = scr_test['Outcome']\n",
    "\n",
    "def predict_lsc(X,w):     ## Function that finds values for test sample\n",
    "  scaled_x_test = np.column_stack((np.ones(X.shape[0]), lg_sx.transform(X)))\n",
    "  y_pred = []\n",
    "  for x_test in scaled_x_test:\n",
    "    scaled_dpf_lg = 1 - sigmoid(np.dot(w, x_test))\n",
    "    if lg_sy.inverse_transform([[scaled_dpf_lg]])[0][0] > 0.5 :\n",
    "      y_pred.append(1.0)\n",
    "    else:\n",
    "      y_pred.append(0.0)\n",
    "  return y_pred\n",
    "\n",
    "y_pred_lsc = predict_lsc(x_test_input_lg,w_lsc_flat)\n",
    "\n",
    "print(\"The Accuracy for Least Square Classification is: \", accuracy_score(y_pred_lsc,y_true)*100)\n"
   ]
  },
  {
   "cell_type": "markdown",
   "metadata": {
    "id": "WSoa7KO1TM6-"
   },
   "source": [
    "## **_Insights drawn (plots, markdown explanations)_**"
   ]
  },
  {
   "cell_type": "code",
   "execution_count": null,
   "metadata": {
    "colab": {
     "base_uri": "https://localhost:8080/",
     "height": 489
    },
    "id": "9KYE7sstTW4D",
    "outputId": "86988ae6-79ed-4b26-c339-af693e3dfc11"
   },
   "outputs": [],
   "source": [
    "plt.xlabel('epoch')\n",
    "plt.ylabel('cost')\n",
    "plt.title('Logistic Regression Descent')\n",
    "plt.plot(epoch_list_lg,cost_list_lg)"
   ]
  },
  {
   "cell_type": "markdown",
   "metadata": {
    "id": "UENJRFWStFbt"
   },
   "source": [
    "# **Insights and Analysis**\n",
    "### The following inferences can be taken from the above implementation of both the algorithms\n",
    "\n",
    "*   The accuracy of Logistic Regression came out to be 68.0 and that of Least Square Classification comes out to be 60.4 percent.\n",
    "*   Least Square Classification is implemented using Normal equation method.\n",
    "*   The Graph and code of Logistic Regression and Linear regression is very similar except the fact that in Logistic Regression sigmoid is used and the values are rounded to 0 and 1\n",
    "*   The Logistic Regression algorithim however required a higher learning rate and more no. of iteration\n",
    "*   The accuracy show that logistic regression gives more accurate prediction that least square classification. This may be because LSC is not robust to outliers"
   ]
  },
  {
   "cell_type": "markdown",
   "metadata": {
    "id": "81SwQ_y4TaSc"
   },
   "source": [
    "# **_5. References_**\n",
    "\n",
    "1.   https://numpy.org/doc/\n",
    "2.   https://pandas.pydata.org/docs/\n",
    "3.   https://scikit-learn.org/stable/modules/classes.html (ONLY FOR IMPLEMENTATION OF ACCURACY METRICS AND SCALING DATA)\n"
   ]
  }
 ],
 "metadata": {
  "colab": {
   "provenance": [],
   "toc_visible": true
  },
  "kernelspec": {
   "display_name": "Python 3 (ipykernel)",
   "language": "python",
   "name": "python3"
  },
  "language_info": {
   "codemirror_mode": {
    "name": "ipython",
    "version": 3
   },
   "file_extension": ".py",
   "mimetype": "text/x-python",
   "name": "python",
   "nbconvert_exporter": "python",
   "pygments_lexer": "ipython3",
   "version": "3.11.0"
  }
 },
 "nbformat": 4,
 "nbformat_minor": 1
}
